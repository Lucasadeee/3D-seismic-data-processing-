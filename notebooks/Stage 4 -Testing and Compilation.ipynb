{
 "cells": [
  {
   "cell_type": "markdown",
   "metadata": {},
   "source": [
    "# 4. Model test and compilation"
   ]
  },
  {
   "cell_type": "code",
   "execution_count": 12,
   "metadata": {},
   "outputs": [],
   "source": [
    "import numpy as np\n",
    "import h5py\n",
    "import keras\n",
    "import k3d\n",
    "import matplotlib.pyplot as plt\n",
    "from sklearn.metrics import confusion_matrix, f1_score, precision_score, recall_score\n",
    "from ipywidgets import interact, widgets\n",
    "\n",
    "import src"
   ]
  },
  {
   "cell_type": "markdown",
   "metadata": {},
   "source": [
    "# 4.1 Trained Model definition"
   ]
  },
  {
   "cell_type": "code",
   "execution_count": 2,
   "metadata": {},
   "outputs": [
    {
     "name": "stdout",
     "output_type": "stream",
     "text": [
      "Model: \"sequential_14\"\n",
      "_________________________________________________________________\n",
      "Layer (type)                 Output Shape              Param #   \n",
      "=================================================================\n",
      "conv2d_36 (Conv2D)           (None, 8, 8, 32)          4736      \n",
      "_________________________________________________________________\n",
      "activation_35 (Activation)   (None, 8, 8, 32)          0         \n",
      "_________________________________________________________________\n",
      "max_pooling2d_29 (MaxPooling (None, 8, 8, 32)          0         \n",
      "_________________________________________________________________\n",
      "dropout_26 (Dropout)         (None, 8, 8, 32)          0         \n",
      "_________________________________________________________________\n",
      "conv2d_37 (Conv2D)           (None, 4, 4, 64)          51264     \n",
      "_________________________________________________________________\n",
      "activation_36 (Activation)   (None, 4, 4, 64)          0         \n",
      "_________________________________________________________________\n",
      "max_pooling2d_30 (MaxPooling (None, 4, 4, 64)          0         \n",
      "_________________________________________________________________\n",
      "dropout_27 (Dropout)         (None, 4, 4, 64)          0         \n",
      "_________________________________________________________________\n",
      "conv2d_38 (Conv2D)           (None, 2, 2, 128)         73856     \n",
      "_________________________________________________________________\n",
      "activation_37 (Activation)   (None, 2, 2, 128)         0         \n",
      "_________________________________________________________________\n",
      "max_pooling2d_31 (MaxPooling (None, 1, 1, 128)         0         \n",
      "_________________________________________________________________\n",
      "dropout_28 (Dropout)         (None, 1, 1, 128)         0         \n",
      "_________________________________________________________________\n",
      "flatten_4 (Flatten)          (None, 128)               0         \n",
      "_________________________________________________________________\n",
      "dense_7 (Dense)              (None, 200)               25800     \n",
      "_________________________________________________________________\n",
      "activation_38 (Activation)   (None, 200)               0         \n",
      "_________________________________________________________________\n",
      "dense_8 (Dense)              (None, 4)                 804       \n",
      "_________________________________________________________________\n",
      "activation_39 (Activation)   (None, 4)                 0         \n",
      "=================================================================\n",
      "Total params: 156,460\n",
      "Trainable params: 156,460\n",
      "Non-trainable params: 0\n",
      "_________________________________________________________________\n"
     ]
    }
   ],
   "source": [
    "with h5py.File('data/processed/stanford6.h5', 'r') as dataset:\n",
    "    x_test = np.array(dataset['test/X'])\n",
    "    y_test = np.array(dataset['test/Y'])\n",
    "\n",
    "classnames = {\n",
    "    0: 'Floodplain',\n",
    "    1: 'Pointbar',\n",
    "    2: 'Channel',\n",
    "    3: 'Boundary',\n",
    "}\n",
    "\n",
    "model = keras.models.load_model('models/stanford-32.h5')\n",
    "model.summary()"
   ]
  },
  {
   "cell_type": "markdown",
   "metadata": {},
   "source": [
    "# 4.2 Trained model Evaluation"
   ]
  },
  {
   "cell_type": "code",
   "execution_count": 4,
   "metadata": {},
   "outputs": [
    {
     "name": "stdout",
     "output_type": "stream",
     "text": [
      "Evaluating model...\n",
      "\n",
      "Mean accuracy: \t0.885346518766208\n",
      "Precision: \t0.6200887816113339\n",
      "Recall: \t0.6115826964525135\n",
      "F1-Score: \t0.6092991465912694\n"
     ]
    },
    {
     "data": {
      "text/plain": [
       "<AxesSubplot:title={'center':'Confusion matrix'}, xlabel='Predicted label', ylabel='True label'>"
      ]
     },
     "execution_count": 4,
     "metadata": {},
     "output_type": "execute_result"
    },
    {
     "data": {
      "image/png": "[encoded data removed]",
      "text/plain": [
       "<Figure size 432x288 with 2 Axes>"
      ]
     },
     "metadata": {
      "needs_background": "light"
     },
     "output_type": "display_data"
    }
   ],
   "source": [
    "def mean_class_accuracy(cm):\n",
    "    fp = cm.sum(axis=0) - np.diag(cm)  \n",
    "    fn = cm.sum(axis=1) - np.diag(cm)\n",
    "    tp = np.diag(cm)\n",
    "    tn = cm.sum() - (fp + fn + tp)\n",
    "    \n",
    "    return np.mean((tp + tn) / (tp + tn + fp + fn))\n",
    "\n",
    "print('Evaluating model...\\n')\n",
    "y_pred = np.argmax(model.predict(x_test), axis=-1)\n",
    "y_true = np.argmax(y_test, axis=-1)\n",
    "\n",
    "matrix = confusion_matrix(y_true, y_pred)\n",
    "accuracy = mean_class_accuracy(matrix)\n",
    "precision = precision_score(y_true, y_pred, average='macro')\n",
    "recall = recall_score(y_true, y_pred, average='macro')\n",
    "f1 = f1_score(y_true, y_pred, average='macro')\n",
    "\n",
    "matrix = matrix.astype('float') / matrix.sum(axis=1)[:, np.newaxis]\n",
    "\n",
    "print(f'Mean accuracy: \\t{accuracy}')\n",
    "print(f'Precision: \\t{precision}')\n",
    "print(f'Recall: \\t{recall}')\n",
    "print(f'F1-Score: \\t{f1}')\n",
    "\n",
    "src.plot_confusion_matrix(matrix, classnames.values(), title=\"Confusion matrix\")"
   ]
  },
  {
   "cell_type": "markdown",
   "metadata": {},
   "source": [
    "# 4.3 Trained model Preview"
   ]
  },
  {
   "cell_type": "code",
   "execution_count": 13,
   "metadata": {},
   "outputs": [
    {
     "data": {
      "application/vnd.jupyter.widget-view+json": {
       "model_id": "942dea3ddca643af9fb1bf52c074eb1c",
       "version_major": 2,
       "version_minor": 0
      },
      "text/plain": [
       "interactive(children=(IntSlider(value=0, description='z', max=87), Output()), _dom_classes=('widget-interact',…"
      ]
     },
     "metadata": {},
     "output_type": "display_data"
    },
    {
     "data": {
      "text/plain": [
       "<function __main__.plot_section(z=0)>"
      ]
     },
     "execution_count": 13,
     "metadata": {},
     "output_type": "execute_result"
    }
   ],
   "source": [
    "image_size = 32\n",
    "output_shape = [213 + 1 - image_size, 224 + 1 - image_size, 119 + 1 - image_size]\n",
    "\n",
    "def plot_section(z=0):\n",
    "    plt.subplot(121)\n",
    "    plt.imshow(y_true.reshape(output_shape)[:,:,z].T)\n",
    "    plt.subplot(122)\n",
    "    plt.imshow(y_pred.reshape(output_shape)[:,:,z].T)\n",
    "\n",
    "interact(plot_section, z=widgets.IntSlider(min=0,max=119 - image_size,step=1,value=0))"
   ]
  },
  {
   "cell_type": "markdown",
   "metadata": {},
   "source": [
    "# 4.4 Trained model 3D Preview"
   ]
  },
  {
   "cell_type": "code",
   "execution_count": 9,
   "metadata": {},
   "outputs": [
    {
     "name": "stderr",
     "output_type": "stream",
     "text": [
      "C:\\Users\\LUCASADEEE\\.conda\\envs\\ML\\lib\\site-packages\\traittypes\\traittypes.py:101: UserWarning: Given trait value dtype \"int64\" does not match required type \"uint8\". A coerced copy has been created.\n",
      "  np.dtype(self.dtype).name))\n"
     ]
    },
    {
     "data": {
      "application/vnd.jupyter.widget-view+json": {
       "model_id": "b305741ec10b40b5abc0ca752b2a30db",
       "version_major": 2,
       "version_minor": 0
      },
      "text/plain": [
       "Output()"
      ]
     },
     "metadata": {},
     "output_type": "display_data"
    }
   ],
   "source": [
    "color_map = (0x3A528B, 0x20908C, 0xFDE724)\n",
    "\n",
    "plot = k3d.plot(camera_auto_fit=False)\n",
    "obj = k3d.voxels(y_pred.reshape(output_shape).T, color_map, compression_level=1)\n",
    "plot += obj\n",
    "plot.camera=[150, 230, -40, 60, 85, 80, 0.0, 0.0, -1.0]\n",
    "plot.display()"
   ]
  },
  {
   "cell_type": "code",
   "execution_count": 10,
   "metadata": {},
   "outputs": [
    {
     "data": {
      "application/vnd.jupyter.widget-view+json": {
       "model_id": "b3c95a52b404402d97da7139c4ff4e5d",
       "version_major": 2,
       "version_minor": 0
      },
      "text/plain": [
       "Output()"
      ]
     },
     "metadata": {},
     "output_type": "display_data"
    }
   ],
   "source": [
    "color_map = (0x3A528B, 0x20908C, 0xFDE724)\n",
    "\n",
    "plot = k3d.plot(camera_auto_fit=False)\n",
    "obj = k3d.voxels(y_true.reshape(output_shape).T, color_map, compression_level=1)\n",
    "plot += obj\n",
    "plot.camera=[150, 230, -40, 60, 85, 80, 0.0, 0.0, -1.0]\n",
    "plot.display()"
   ]
  },
  {
   "cell_type": "code",
   "execution_count": null,
   "metadata": {},
   "outputs": [],
   "source": []
  }
 ],
 "metadata": {
  "kernelspec": {
   "display_name": "Python 3 (ipykernel)",
   "language": "python",
   "name": "python3"
  },
  "language_info": {
   "codemirror_mode": {
    "name": "ipython",
    "version": 3
   },
   "file_extension": ".py",
   "mimetype": "text/x-python",
   "name": "python",
   "nbconvert_exporter": "python",
   "pygments_lexer": "ipython3",
   "version": "3.7.11"
  },
  "vscode": {
   "interpreter": {
    "hash": "0c834f74fa58036acf3dedadea7d8ba2555327e0cc9a28c3a1e9ec4ad66d46e5"
   }
  }
 },
 "nbformat": 4,
 "nbformat_minor": 2
}
